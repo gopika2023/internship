{
  "nbformat": 4,
  "nbformat_minor": 0,
  "metadata": {
    "colab": {
      "provenance": [],
      "collapsed_sections": [],
      "include_colab_link": true
    },
    "kernelspec": {
      "name": "python3",
      "display_name": "Python 3"
    },
    "language_info": {
      "name": "python"
    }
  },
  "cells": [
    {
      "cell_type": "markdown",
      "metadata": {
        "id": "view-in-github",
        "colab_type": "text"
      },
      "source": [
        "<a href=\"https://colab.research.google.com/github/gopika2023/internship/blob/main/INTERNSHIP.ipynb\" target=\"_parent\"><img src=\"https://colab.research.google.com/assets/colab-badge.svg\" alt=\"Open In Colab\"/></a>"
      ]
    },
    {
      "cell_type": "markdown",
      "source": [
        "Import Important Libraries"
      ],
      "metadata": {
        "id": "e7lHdWEHr-40"
      }
    },
    {
      "cell_type": "code",
      "source": [],
      "metadata": {
        "id": "AawS9foCqqSw"
      },
      "execution_count": null,
      "outputs": []
    },
    {
      "cell_type": "markdown",
      "source": [],
      "metadata": {
        "id": "lI5UXKwRqqn-"
      }
    },
    {
      "cell_type": "code",
      "source": [],
      "metadata": {
        "id": "J9jAodBrqrGG"
      },
      "execution_count": null,
      "outputs": []
    },
    {
      "cell_type": "code",
      "source": [
        "import numpy as np\n",
        "import tensorflow as tf\n",
        "from keras.callbacks import ModelCheckpoint\n",
        "from keras.models import Sequential\n",
        "from keras.layers import LSTM,Conv1D,Conv2D,MaxPooling2D,MaxPooling1D,Flatten\n",
        "from keras.layers import Dense, Dropout\n",
        "import pandas as pd\n",
        "from tensorflow.keras.optimizers import Adam\n",
        "from matplotlib import pyplot as plt\n",
        "from sklearn.preprocessing import StandardScaler,MinMaxScaler\n",
        "import seaborn as sns\n",
        "#from datetime import datetime\n",
        "\n",
        "from tensorflow.compat.v1.keras.layers import CuDNNLSTM,Bidirectional\n",
        "seed=42"
      ],
      "metadata": {
        "id": "4Sz7i0Vxrxbh"
      },
      "execution_count": null,
      "outputs": []
    },
    {
      "cell_type": "code",
      "source": [
        "#Read the csv file\n",
        "df = pd.read_csv('/content/train.csv')\n",
        "df['date'] = pd.to_datetime(df['date'])\n",
        "df"
      ],
      "metadata": {
        "colab": {
          "base_uri": "https://localhost:8080/",
          "height": 424
        },
        "id": "U8TZt_Nurxed",
        "outputId": "01e0bb1b-8671-42d1-ff2b-266f312d7686"
      },
      "execution_count": null,
      "outputs": [
        {
          "output_type": "execute_result",
          "data": {
            "text/plain": [
              "           date        Open        High         Low       Close   Adj Close  \\\n",
              "0    2018-01-02  196.100006  201.649994  195.419998  201.070007  201.070007   \n",
              "1    2018-01-03  202.050003  206.210007  201.500000  205.050003  205.050003   \n",
              "2    2018-01-04  206.199997  207.050003  204.000000  205.630005  205.630005   \n",
              "3    2018-01-05  207.250000  210.020004  205.589996  209.990005  209.990005   \n",
              "4    2018-01-08  210.020004  212.500000  208.440002  212.050003  212.050003   \n",
              "...         ...         ...         ...         ...         ...         ...   \n",
              "1132 2022-07-01  176.490005  180.100006  174.270004  179.949997  179.949997   \n",
              "1133 2022-07-05  176.279999  185.919998  172.679993  185.880005  185.880005   \n",
              "1134 2022-07-06  185.199997  186.220001  180.820007  184.059998  184.059998   \n",
              "1135 2022-07-07  184.270004  190.210007  183.500000  189.270004  189.270004   \n",
              "1136 2022-07-08  186.020004  189.910004  182.750000  186.979996  186.979996   \n",
              "\n",
              "        Volume    P_mean  P_sum  twt_count  \n",
              "0     10966900  0.020833     10        480  \n",
              "1      8591400  0.071217     24        337  \n",
              "2      6029600 -0.018519     -4        216  \n",
              "3      7033200 -0.019737     -6        304  \n",
              "4      5580200 -0.007663     -2        261  \n",
              "...        ...       ...    ...        ...  \n",
              "1132   5194700 -0.062315    -21        337  \n",
              "1133   7334300 -0.058824    -25        425  \n",
              "1134   5753400 -0.014870     -8        538  \n",
              "1135   6334500 -0.055427    -24        433  \n",
              "1136   5831300 -0.043011    -12        279  \n",
              "\n",
              "[1137 rows x 10 columns]"
            ],
            "text/html": [
              "\n",
              "  <div id=\"df-015b0f2d-d679-4a1e-9659-37a9f55ff6d3\">\n",
              "    <div class=\"colab-df-container\">\n",
              "      <div>\n",
              "<style scoped>\n",
              "    .dataframe tbody tr th:only-of-type {\n",
              "        vertical-align: middle;\n",
              "    }\n",
              "\n",
              "    .dataframe tbody tr th {\n",
              "        vertical-align: top;\n",
              "    }\n",
              "\n",
              "    .dataframe thead th {\n",
              "        text-align: right;\n",
              "    }\n",
              "</style>\n",
              "<table border=\"1\" class=\"dataframe\">\n",
              "  <thead>\n",
              "    <tr style=\"text-align: right;\">\n",
              "      <th></th>\n",
              "      <th>date</th>\n",
              "      <th>Open</th>\n",
              "      <th>High</th>\n",
              "      <th>Low</th>\n",
              "      <th>Close</th>\n",
              "      <th>Adj Close</th>\n",
              "      <th>Volume</th>\n",
              "      <th>P_mean</th>\n",
              "      <th>P_sum</th>\n",
              "      <th>twt_count</th>\n",
              "    </tr>\n",
              "  </thead>\n",
              "  <tbody>\n",
              "    <tr>\n",
              "      <th>0</th>\n",
              "      <td>2018-01-02</td>\n",
              "      <td>196.100006</td>\n",
              "      <td>201.649994</td>\n",
              "      <td>195.419998</td>\n",
              "      <td>201.070007</td>\n",
              "      <td>201.070007</td>\n",
              "      <td>10966900</td>\n",
              "      <td>0.020833</td>\n",
              "      <td>10</td>\n",
              "      <td>480</td>\n",
              "    </tr>\n",
              "    <tr>\n",
              "      <th>1</th>\n",
              "      <td>2018-01-03</td>\n",
              "      <td>202.050003</td>\n",
              "      <td>206.210007</td>\n",
              "      <td>201.500000</td>\n",
              "      <td>205.050003</td>\n",
              "      <td>205.050003</td>\n",
              "      <td>8591400</td>\n",
              "      <td>0.071217</td>\n",
              "      <td>24</td>\n",
              "      <td>337</td>\n",
              "    </tr>\n",
              "    <tr>\n",
              "      <th>2</th>\n",
              "      <td>2018-01-04</td>\n",
              "      <td>206.199997</td>\n",
              "      <td>207.050003</td>\n",
              "      <td>204.000000</td>\n",
              "      <td>205.630005</td>\n",
              "      <td>205.630005</td>\n",
              "      <td>6029600</td>\n",
              "      <td>-0.018519</td>\n",
              "      <td>-4</td>\n",
              "      <td>216</td>\n",
              "    </tr>\n",
              "    <tr>\n",
              "      <th>3</th>\n",
              "      <td>2018-01-05</td>\n",
              "      <td>207.250000</td>\n",
              "      <td>210.020004</td>\n",
              "      <td>205.589996</td>\n",
              "      <td>209.990005</td>\n",
              "      <td>209.990005</td>\n",
              "      <td>7033200</td>\n",
              "      <td>-0.019737</td>\n",
              "      <td>-6</td>\n",
              "      <td>304</td>\n",
              "    </tr>\n",
              "    <tr>\n",
              "      <th>4</th>\n",
              "      <td>2018-01-08</td>\n",
              "      <td>210.020004</td>\n",
              "      <td>212.500000</td>\n",
              "      <td>208.440002</td>\n",
              "      <td>212.050003</td>\n",
              "      <td>212.050003</td>\n",
              "      <td>5580200</td>\n",
              "      <td>-0.007663</td>\n",
              "      <td>-2</td>\n",
              "      <td>261</td>\n",
              "    </tr>\n",
              "    <tr>\n",
              "      <th>...</th>\n",
              "      <td>...</td>\n",
              "      <td>...</td>\n",
              "      <td>...</td>\n",
              "      <td>...</td>\n",
              "      <td>...</td>\n",
              "      <td>...</td>\n",
              "      <td>...</td>\n",
              "      <td>...</td>\n",
              "      <td>...</td>\n",
              "      <td>...</td>\n",
              "    </tr>\n",
              "    <tr>\n",
              "      <th>1132</th>\n",
              "      <td>2022-07-01</td>\n",
              "      <td>176.490005</td>\n",
              "      <td>180.100006</td>\n",
              "      <td>174.270004</td>\n",
              "      <td>179.949997</td>\n",
              "      <td>179.949997</td>\n",
              "      <td>5194700</td>\n",
              "      <td>-0.062315</td>\n",
              "      <td>-21</td>\n",
              "      <td>337</td>\n",
              "    </tr>\n",
              "    <tr>\n",
              "      <th>1133</th>\n",
              "      <td>2022-07-05</td>\n",
              "      <td>176.279999</td>\n",
              "      <td>185.919998</td>\n",
              "      <td>172.679993</td>\n",
              "      <td>185.880005</td>\n",
              "      <td>185.880005</td>\n",
              "      <td>7334300</td>\n",
              "      <td>-0.058824</td>\n",
              "      <td>-25</td>\n",
              "      <td>425</td>\n",
              "    </tr>\n",
              "    <tr>\n",
              "      <th>1134</th>\n",
              "      <td>2022-07-06</td>\n",
              "      <td>185.199997</td>\n",
              "      <td>186.220001</td>\n",
              "      <td>180.820007</td>\n",
              "      <td>184.059998</td>\n",
              "      <td>184.059998</td>\n",
              "      <td>5753400</td>\n",
              "      <td>-0.014870</td>\n",
              "      <td>-8</td>\n",
              "      <td>538</td>\n",
              "    </tr>\n",
              "    <tr>\n",
              "      <th>1135</th>\n",
              "      <td>2022-07-07</td>\n",
              "      <td>184.270004</td>\n",
              "      <td>190.210007</td>\n",
              "      <td>183.500000</td>\n",
              "      <td>189.270004</td>\n",
              "      <td>189.270004</td>\n",
              "      <td>6334500</td>\n",
              "      <td>-0.055427</td>\n",
              "      <td>-24</td>\n",
              "      <td>433</td>\n",
              "    </tr>\n",
              "    <tr>\n",
              "      <th>1136</th>\n",
              "      <td>2022-07-08</td>\n",
              "      <td>186.020004</td>\n",
              "      <td>189.910004</td>\n",
              "      <td>182.750000</td>\n",
              "      <td>186.979996</td>\n",
              "      <td>186.979996</td>\n",
              "      <td>5831300</td>\n",
              "      <td>-0.043011</td>\n",
              "      <td>-12</td>\n",
              "      <td>279</td>\n",
              "    </tr>\n",
              "  </tbody>\n",
              "</table>\n",
              "<p>1137 rows × 10 columns</p>\n",
              "</div>\n",
              "      <button class=\"colab-df-convert\" onclick=\"convertToInteractive('df-015b0f2d-d679-4a1e-9659-37a9f55ff6d3')\"\n",
              "              title=\"Convert this dataframe to an interactive table.\"\n",
              "              style=\"display:none;\">\n",
              "        \n",
              "  <svg xmlns=\"http://www.w3.org/2000/svg\" height=\"24px\"viewBox=\"0 0 24 24\"\n",
              "       width=\"24px\">\n",
              "    <path d=\"M0 0h24v24H0V0z\" fill=\"none\"/>\n",
              "    <path d=\"M18.56 5.44l.94 2.06.94-2.06 2.06-.94-2.06-.94-.94-2.06-.94 2.06-2.06.94zm-11 1L8.5 8.5l.94-2.06 2.06-.94-2.06-.94L8.5 2.5l-.94 2.06-2.06.94zm10 10l.94 2.06.94-2.06 2.06-.94-2.06-.94-.94-2.06-.94 2.06-2.06.94z\"/><path d=\"M17.41 7.96l-1.37-1.37c-.4-.4-.92-.59-1.43-.59-.52 0-1.04.2-1.43.59L10.3 9.45l-7.72 7.72c-.78.78-.78 2.05 0 2.83L4 21.41c.39.39.9.59 1.41.59.51 0 1.02-.2 1.41-.59l7.78-7.78 2.81-2.81c.8-.78.8-2.07 0-2.86zM5.41 20L4 18.59l7.72-7.72 1.47 1.35L5.41 20z\"/>\n",
              "  </svg>\n",
              "      </button>\n",
              "      \n",
              "  <style>\n",
              "    .colab-df-container {\n",
              "      display:flex;\n",
              "      flex-wrap:wrap;\n",
              "      gap: 12px;\n",
              "    }\n",
              "\n",
              "    .colab-df-convert {\n",
              "      background-color: #E8F0FE;\n",
              "      border: none;\n",
              "      border-radius: 50%;\n",
              "      cursor: pointer;\n",
              "      display: none;\n",
              "      fill: #1967D2;\n",
              "      height: 32px;\n",
              "      padding: 0 0 0 0;\n",
              "      width: 32px;\n",
              "    }\n",
              "\n",
              "    .colab-df-convert:hover {\n",
              "      background-color: #E2EBFA;\n",
              "      box-shadow: 0px 1px 2px rgba(60, 64, 67, 0.3), 0px 1px 3px 1px rgba(60, 64, 67, 0.15);\n",
              "      fill: #174EA6;\n",
              "    }\n",
              "\n",
              "    [theme=dark] .colab-df-convert {\n",
              "      background-color: #3B4455;\n",
              "      fill: #D2E3FC;\n",
              "    }\n",
              "\n",
              "    [theme=dark] .colab-df-convert:hover {\n",
              "      background-color: #434B5C;\n",
              "      box-shadow: 0px 1px 3px 1px rgba(0, 0, 0, 0.15);\n",
              "      filter: drop-shadow(0px 1px 2px rgba(0, 0, 0, 0.3));\n",
              "      fill: #FFFFFF;\n",
              "    }\n",
              "  </style>\n",
              "\n",
              "      <script>\n",
              "        const buttonEl =\n",
              "          document.querySelector('#df-015b0f2d-d679-4a1e-9659-37a9f55ff6d3 button.colab-df-convert');\n",
              "        buttonEl.style.display =\n",
              "          google.colab.kernel.accessAllowed ? 'block' : 'none';\n",
              "\n",
              "        async function convertToInteractive(key) {\n",
              "          const element = document.querySelector('#df-015b0f2d-d679-4a1e-9659-37a9f55ff6d3');\n",
              "          const dataTable =\n",
              "            await google.colab.kernel.invokeFunction('convertToInteractive',\n",
              "                                                     [key], {});\n",
              "          if (!dataTable) return;\n",
              "\n",
              "          const docLinkHtml = 'Like what you see? Visit the ' +\n",
              "            '<a target=\"_blank\" href=https://colab.research.google.com/notebooks/data_table.ipynb>data table notebook</a>'\n",
              "            + ' to learn more about interactive tables.';\n",
              "          element.innerHTML = '';\n",
              "          dataTable['output_type'] = 'display_data';\n",
              "          await google.colab.output.renderOutput(dataTable, element);\n",
              "          const docLink = document.createElement('div');\n",
              "          docLink.innerHTML = docLinkHtml;\n",
              "          element.appendChild(docLink);\n",
              "        }\n",
              "      </script>\n",
              "    </div>\n",
              "  </div>\n",
              "  "
            ]
          },
          "metadata": {},
          "execution_count": 3
        }
      ]
    },
    {
      "cell_type": "markdown",
      "source": [
        "**Understanding the time series**"
      ],
      "metadata": {
        "id": "I7BsggZ2sq9p"
      }
    },
    {
      "cell_type": "code",
      "source": [
        "import seaborn as sns\n",
        "plt.figure(figsize=(25,7));\n",
        "sns.lineplot(x=df[\"date\"],y=df[\"Adj Close\"])\n",
        "df['sentiment_analysis']=df['P_mean']\n",
        "df['sentiment_analysis']=df['sentiment_analysis'].apply(lambda x: 'pos' if x>0 else 'nue' if x==0 else 'neg')\n",
        "sns.scatterplot(x=df[\"date\"],y=df['Adj Close'],hue=df['sentiment_analysis'],palette=['y','r','g'])\n",
        "plt.xticks(rotation=45);\n",
        "plt.title(\"Stock market of Netfilx from Jan-2018 to Jul-2022\",fontsize=16);"
      ],
      "metadata": {
        "colab": {
          "base_uri": "https://localhost:8080/",
          "height": 421
        },
        "id": "UBFUR5vRrxi-",
        "outputId": "a8962690-6988-443d-95fc-9c5dc2c51d52"
      },
      "execution_count": null,
      "outputs": [
        {
          "output_type": "display_data",
          "data": {
            "text/plain": [
              "<Figure size 1800x504 with 1 Axes>"
            ],
            "image/png": "[encoded data removed]"
          },
          "metadata": {
            "needs_background": "light"
          }
        }
      ]
    },
    {
      "cell_type": "code",
      "source": [
        "df['sentiment_analysis'].value_counts()"
      ],
      "metadata": {
        "colab": {
          "base_uri": "https://localhost:8080/"
        },
        "id": "ihlx2SL4rxlj",
        "outputId": "4e7980a9-e1ef-4129-aded-4aaf6643d2e7"
      },
      "execution_count": null,
      "outputs": [
        {
          "output_type": "execute_result",
          "data": {
            "text/plain": [
              "neg    1059\n",
              "pos      71\n",
              "nue       7\n",
              "Name: sentiment_analysis, dtype: int64"
            ]
          },
          "metadata": {},
          "execution_count": 5
        }
      ]
    },
    {
      "cell_type": "code",
      "source": [
        "df=df.drop(list(range(14)),axis=0,inplace=False)\n",
        "df"
      ],
      "metadata": {
        "colab": {
          "base_uri": "https://localhost:8080/",
          "height": 424
        },
        "id": "hKNT7yO7rxnp",
        "outputId": "f602bdf5-6e31-4e82-c083-1ade15b6a6ff"
      },
      "execution_count": null,
      "outputs": [
        {
          "output_type": "execute_result",
          "data": {
            "text/plain": [
              "           date        Open        High         Low       Close   Adj Close  \\\n",
              "14   2018-01-23  255.050003  257.709991  248.020004  250.289993  250.289993   \n",
              "15   2018-01-24  250.880005  261.709991  249.309998  261.299988  261.299988   \n",
              "16   2018-01-25  263.000000  272.299988  260.230011  269.700012  269.700012   \n",
              "17   2018-01-26  271.489990  274.600006  268.760010  274.600006  274.600006   \n",
              "18   2018-01-29  274.200012  286.809998  273.920013  284.589996  284.589996   \n",
              "...         ...         ...         ...         ...         ...         ...   \n",
              "1132 2022-07-01  176.490005  180.100006  174.270004  179.949997  179.949997   \n",
              "1133 2022-07-05  176.279999  185.919998  172.679993  185.880005  185.880005   \n",
              "1134 2022-07-06  185.199997  186.220001  180.820007  184.059998  184.059998   \n",
              "1135 2022-07-07  184.270004  190.210007  183.500000  189.270004  189.270004   \n",
              "1136 2022-07-08  186.020004  189.910004  182.750000  186.979996  186.979996   \n",
              "\n",
              "        Volume    P_mean  P_sum  twt_count sentiment_analysis  \n",
              "14    27705300 -0.061196    -88       1438                neg  \n",
              "15    17352400 -0.084525    -65        769                neg  \n",
              "16    15336400 -0.122744   -102        831                neg  \n",
              "17    11021800 -0.118012    -57        483                neg  \n",
              "18    17529700 -0.100690    -73        725                neg  \n",
              "...        ...       ...    ...        ...                ...  \n",
              "1132   5194700 -0.062315    -21        337                neg  \n",
              "1133   7334300 -0.058824    -25        425                neg  \n",
              "1134   5753400 -0.014870     -8        538                neg  \n",
              "1135   6334500 -0.055427    -24        433                neg  \n",
              "1136   5831300 -0.043011    -12        279                neg  \n",
              "\n",
              "[1123 rows x 11 columns]"
            ],
            "text/html": [
              "\n",
              "  <div id=\"df-4b746f14-a6a4-49ee-9bfa-b4c1c892ed63\">\n",
              "    <div class=\"colab-df-container\">\n",
              "      <div>\n",
              "<style scoped>\n",
              "    .dataframe tbody tr th:only-of-type {\n",
              "        vertical-align: middle;\n",
              "    }\n",
              "\n",
              "    .dataframe tbody tr th {\n",
              "        vertical-align: top;\n",
              "    }\n",
              "\n",
              "    .dataframe thead th {\n",
              "        text-align: right;\n",
              "    }\n",
              "</style>\n",
              "<table border=\"1\" class=\"dataframe\">\n",
              "  <thead>\n",
              "    <tr style=\"text-align: right;\">\n",
              "      <th></th>\n",
              "      <th>date</th>\n",
              "      <th>Open</th>\n",
              "      <th>High</th>\n",
              "      <th>Low</th>\n",
              "      <th>Close</th>\n",
              "      <th>Adj Close</th>\n",
              "      <th>Volume</th>\n",
              "      <th>P_mean</th>\n",
              "      <th>P_sum</th>\n",
              "      <th>twt_count</th>\n",
              "      <th>sentiment_analysis</th>\n",
              "    </tr>\n",
              "  </thead>\n",
              "  <tbody>\n",
              "    <tr>\n",
              "      <th>14</th>\n",
              "      <td>2018-01-23</td>\n",
              "      <td>255.050003</td>\n",
              "      <td>257.709991</td>\n",
              "      <td>248.020004</td>\n",
              "      <td>250.289993</td>\n",
              "      <td>250.289993</td>\n",
              "      <td>27705300</td>\n",
              "      <td>-0.061196</td>\n",
              "      <td>-88</td>\n",
              "      <td>1438</td>\n",
              "      <td>neg</td>\n",
              "    </tr>\n",
              "    <tr>\n",
              "      <th>15</th>\n",
              "      <td>2018-01-24</td>\n",
              "      <td>250.880005</td>\n",
              "      <td>261.709991</td>\n",
              "      <td>249.309998</td>\n",
              "      <td>261.299988</td>\n",
              "      <td>261.299988</td>\n",
              "      <td>17352400</td>\n",
              "      <td>-0.084525</td>\n",
              "      <td>-65</td>\n",
              "      <td>769</td>\n",
              "      <td>neg</td>\n",
              "    </tr>\n",
              "    <tr>\n",
              "      <th>16</th>\n",
              "      <td>2018-01-25</td>\n",
              "      <td>263.000000</td>\n",
              "      <td>272.299988</td>\n",
              "      <td>260.230011</td>\n",
              "      <td>269.700012</td>\n",
              "      <td>269.700012</td>\n",
              "      <td>15336400</td>\n",
              "      <td>-0.122744</td>\n",
              "      <td>-102</td>\n",
              "      <td>831</td>\n",
              "      <td>neg</td>\n",
              "    </tr>\n",
              "    <tr>\n",
              "      <th>17</th>\n",
              "      <td>2018-01-26</td>\n",
              "      <td>271.489990</td>\n",
              "      <td>274.600006</td>\n",
              "      <td>268.760010</td>\n",
              "      <td>274.600006</td>\n",
              "      <td>274.600006</td>\n",
              "      <td>11021800</td>\n",
              "      <td>-0.118012</td>\n",
              "      <td>-57</td>\n",
              "      <td>483</td>\n",
              "      <td>neg</td>\n",
              "    </tr>\n",
              "    <tr>\n",
              "      <th>18</th>\n",
              "      <td>2018-01-29</td>\n",
              "      <td>274.200012</td>\n",
              "      <td>286.809998</td>\n",
              "      <td>273.920013</td>\n",
              "      <td>284.589996</td>\n",
              "      <td>284.589996</td>\n",
              "      <td>17529700</td>\n",
              "      <td>-0.100690</td>\n",
              "      <td>-73</td>\n",
              "      <td>725</td>\n",
              "      <td>neg</td>\n",
              "    </tr>\n",
              "    <tr>\n",
              "      <th>...</th>\n",
              "      <td>...</td>\n",
              "      <td>...</td>\n",
              "      <td>...</td>\n",
              "      <td>...</td>\n",
              "      <td>...</td>\n",
              "      <td>...</td>\n",
              "      <td>...</td>\n",
              "      <td>...</td>\n",
              "      <td>...</td>\n",
              "      <td>...</td>\n",
              "      <td>...</td>\n",
              "    </tr>\n",
              "    <tr>\n",
              "      <th>1132</th>\n",
              "      <td>2022-07-01</td>\n",
              "      <td>176.490005</td>\n",
              "      <td>180.100006</td>\n",
              "      <td>174.270004</td>\n",
              "      <td>179.949997</td>\n",
              "      <td>179.949997</td>\n",
              "      <td>5194700</td>\n",
              "      <td>-0.062315</td>\n",
              "      <td>-21</td>\n",
              "      <td>337</td>\n",
              "      <td>neg</td>\n",
              "    </tr>\n",
              "    <tr>\n",
              "      <th>1133</th>\n",
              "      <td>2022-07-05</td>\n",
              "      <td>176.279999</td>\n",
              "      <td>185.919998</td>\n",
              "      <td>172.679993</td>\n",
              "      <td>185.880005</td>\n",
              "      <td>185.880005</td>\n",
              "      <td>7334300</td>\n",
              "      <td>-0.058824</td>\n",
              "      <td>-25</td>\n",
              "      <td>425</td>\n",
              "      <td>neg</td>\n",
              "    </tr>\n",
              "    <tr>\n",
              "      <th>1134</th>\n",
              "      <td>2022-07-06</td>\n",
              "      <td>185.199997</td>\n",
              "      <td>186.220001</td>\n",
              "      <td>180.820007</td>\n",
              "      <td>184.059998</td>\n",
              "      <td>184.059998</td>\n",
              "      <td>5753400</td>\n",
              "      <td>-0.014870</td>\n",
              "      <td>-8</td>\n",
              "      <td>538</td>\n",
              "      <td>neg</td>\n",
              "    </tr>\n",
              "    <tr>\n",
              "      <th>1135</th>\n",
              "      <td>2022-07-07</td>\n",
              "      <td>184.270004</td>\n",
              "      <td>190.210007</td>\n",
              "      <td>183.500000</td>\n",
              "      <td>189.270004</td>\n",
              "      <td>189.270004</td>\n",
              "      <td>6334500</td>\n",
              "      <td>-0.055427</td>\n",
              "      <td>-24</td>\n",
              "      <td>433</td>\n",
              "      <td>neg</td>\n",
              "    </tr>\n",
              "    <tr>\n",
              "      <th>1136</th>\n",
              "      <td>2022-07-08</td>\n",
              "      <td>186.020004</td>\n",
              "      <td>189.910004</td>\n",
              "      <td>182.750000</td>\n",
              "      <td>186.979996</td>\n",
              "      <td>186.979996</td>\n",
              "      <td>5831300</td>\n",
              "      <td>-0.043011</td>\n",
              "      <td>-12</td>\n",
              "      <td>279</td>\n",
              "      <td>neg</td>\n",
              "    </tr>\n",
              "  </tbody>\n",
              "</table>\n",
              "<p>1123 rows × 11 columns</p>\n",
              "</div>\n",
              "      <button class=\"colab-df-convert\" onclick=\"convertToInteractive('df-4b746f14-a6a4-49ee-9bfa-b4c1c892ed63')\"\n",
              "              title=\"Convert this dataframe to an interactive table.\"\n",
              "              style=\"display:none;\">\n",
              "        \n",
              "  <svg xmlns=\"http://www.w3.org/2000/svg\" height=\"24px\"viewBox=\"0 0 24 24\"\n",
              "       width=\"24px\">\n",
              "    <path d=\"M0 0h24v24H0V0z\" fill=\"none\"/>\n",
              "    <path d=\"M18.56 5.44l.94 2.06.94-2.06 2.06-.94-2.06-.94-.94-2.06-.94 2.06-2.06.94zm-11 1L8.5 8.5l.94-2.06 2.06-.94-2.06-.94L8.5 2.5l-.94 2.06-2.06.94zm10 10l.94 2.06.94-2.06 2.06-.94-2.06-.94-.94-2.06-.94 2.06-2.06.94z\"/><path d=\"M17.41 7.96l-1.37-1.37c-.4-.4-.92-.59-1.43-.59-.52 0-1.04.2-1.43.59L10.3 9.45l-7.72 7.72c-.78.78-.78 2.05 0 2.83L4 21.41c.39.39.9.59 1.41.59.51 0 1.02-.2 1.41-.59l7.78-7.78 2.81-2.81c.8-.78.8-2.07 0-2.86zM5.41 20L4 18.59l7.72-7.72 1.47 1.35L5.41 20z\"/>\n",
              "  </svg>\n",
              "      </button>\n",
              "      \n",
              "  <style>\n",
              "    .colab-df-container {\n",
              "      display:flex;\n",
              "      flex-wrap:wrap;\n",
              "      gap: 12px;\n",
              "    }\n",
              "\n",
              "    .colab-df-convert {\n",
              "      background-color: #E8F0FE;\n",
              "      border: none;\n",
              "      border-radius: 50%;\n",
              "      cursor: pointer;\n",
              "      display: none;\n",
              "      fill: #1967D2;\n",
              "      height: 32px;\n",
              "      padding: 0 0 0 0;\n",
              "      width: 32px;\n",
              "    }\n",
              "\n",
              "    .colab-df-convert:hover {\n",
              "      background-color: #E2EBFA;\n",
              "      box-shadow: 0px 1px 2px rgba(60, 64, 67, 0.3), 0px 1px 3px 1px rgba(60, 64, 67, 0.15);\n",
              "      fill: #174EA6;\n",
              "    }\n",
              "\n",
              "    [theme=dark] .colab-df-convert {\n",
              "      background-color: #3B4455;\n",
              "      fill: #D2E3FC;\n",
              "    }\n",
              "\n",
              "    [theme=dark] .colab-df-convert:hover {\n",
              "      background-color: #434B5C;\n",
              "      box-shadow: 0px 1px 3px 1px rgba(0, 0, 0, 0.15);\n",
              "      filter: drop-shadow(0px 1px 2px rgba(0, 0, 0, 0.3));\n",
              "      fill: #FFFFFF;\n",
              "    }\n",
              "  </style>\n",
              "\n",
              "      <script>\n",
              "        const buttonEl =\n",
              "          document.querySelector('#df-4b746f14-a6a4-49ee-9bfa-b4c1c892ed63 button.colab-df-convert');\n",
              "        buttonEl.style.display =\n",
              "          google.colab.kernel.accessAllowed ? 'block' : 'none';\n",
              "\n",
              "        async function convertToInteractive(key) {\n",
              "          const element = document.querySelector('#df-4b746f14-a6a4-49ee-9bfa-b4c1c892ed63');\n",
              "          const dataTable =\n",
              "            await google.colab.kernel.invokeFunction('convertToInteractive',\n",
              "                                                     [key], {});\n",
              "          if (!dataTable) return;\n",
              "\n",
              "          const docLinkHtml = 'Like what you see? Visit the ' +\n",
              "            '<a target=\"_blank\" href=https://colab.research.google.com/notebooks/data_table.ipynb>data table notebook</a>'\n",
              "            + ' to learn more about interactive tables.';\n",
              "          element.innerHTML = '';\n",
              "          dataTable['output_type'] = 'display_data';\n",
              "          await google.colab.output.renderOutput(dataTable, element);\n",
              "          const docLink = document.createElement('div');\n",
              "          docLink.innerHTML = docLinkHtml;\n",
              "          element.appendChild(docLink);\n",
              "        }\n",
              "      </script>\n",
              "    </div>\n",
              "  </div>\n",
              "  "
            ]
          },
          "metadata": {},
          "execution_count": 6
        }
      ]
    },
    {
      "cell_type": "code",
      "source": [
        "train_dates = pd.to_datetime(df['date'])\n",
        "# print(train_dates.tail(15)) #Check last few dates.\n",
        "\n",
        "#Variables for training\n",
        "cols = [\n",
        "    'Open',\n",
        "    'High', 'Low',\n",
        "    'Close',\n",
        "    'Volume',\n",
        "    'Adj Close',\n",
        "    'P_mean',\n",
        "        ]\n",
        "#Date and volume columns are not used in training.\n",
        "print(cols)\n",
        "\n",
        "#New dataframe with only training data - 5 columns\n",
        "df_for_training = df[cols].astype(float)\n",
        "df_for_training.index=df['date']\n",
        "df_for_training"
      ],
      "metadata": {
        "colab": {
          "base_uri": "https://localhost:8080/",
          "height": 472
        },
        "id": "hyxmv_TGrxs3",
        "outputId": "6b85bee5-4fc2-4a89-c729-ff98da4fcb6f"
      },
      "execution_count": null,
      "outputs": [
        {
          "output_type": "stream",
          "name": "stdout",
          "text": [
            "['Open', 'High', 'Low', 'Close', 'Volume', 'Adj Close', 'P_mean']\n"
          ]
        },
        {
          "output_type": "execute_result",
          "data": {
            "text/plain": [
              "                  Open        High         Low       Close      Volume  \\\n",
              "date                                                                     \n",
              "2018-01-23  255.050003  257.709991  248.020004  250.289993  27705300.0   \n",
              "2018-01-24  250.880005  261.709991  249.309998  261.299988  17352400.0   \n",
              "2018-01-25  263.000000  272.299988  260.230011  269.700012  15336400.0   \n",
              "2018-01-26  271.489990  274.600006  268.760010  274.600006  11021800.0   \n",
              "2018-01-29  274.200012  286.809998  273.920013  284.589996  17529700.0   \n",
              "...                ...         ...         ...         ...         ...   \n",
              "2022-07-01  176.490005  180.100006  174.270004  179.949997   5194700.0   \n",
              "2022-07-05  176.279999  185.919998  172.679993  185.880005   7334300.0   \n",
              "2022-07-06  185.199997  186.220001  180.820007  184.059998   5753400.0   \n",
              "2022-07-07  184.270004  190.210007  183.500000  189.270004   6334500.0   \n",
              "2022-07-08  186.020004  189.910004  182.750000  186.979996   5831300.0   \n",
              "\n",
              "             Adj Close    P_mean  \n",
              "date                              \n",
              "2018-01-23  250.289993 -0.061196  \n",
              "2018-01-24  261.299988 -0.084525  \n",
              "2018-01-25  269.700012 -0.122744  \n",
              "2018-01-26  274.600006 -0.118012  \n",
              "2018-01-29  284.589996 -0.100690  \n",
              "...                ...       ...  \n",
              "2022-07-01  179.949997 -0.062315  \n",
              "2022-07-05  185.880005 -0.058824  \n",
              "2022-07-06  184.059998 -0.014870  \n",
              "2022-07-07  189.270004 -0.055427  \n",
              "2022-07-08  186.979996 -0.043011  \n",
              "\n",
              "[1123 rows x 7 columns]"
            ],
            "text/html": [
              "\n",
              "  <div id=\"df-af4d625b-88da-4001-8736-fc345f193059\">\n",
              "    <div class=\"colab-df-container\">\n",
              "      <div>\n",
              "<style scoped>\n",
              "    .dataframe tbody tr th:only-of-type {\n",
              "        vertical-align: middle;\n",
              "    }\n",
              "\n",
              "    .dataframe tbody tr th {\n",
              "        vertical-align: top;\n",
              "    }\n",
              "\n",
              "    .dataframe thead th {\n",
              "        text-align: right;\n",
              "    }\n",
              "</style>\n",
              "<table border=\"1\" class=\"dataframe\">\n",
              "  <thead>\n",
              "    <tr style=\"text-align: right;\">\n",
              "      <th></th>\n",
              "      <th>Open</th>\n",
              "      <th>High</th>\n",
              "      <th>Low</th>\n",
              "      <th>Close</th>\n",
              "      <th>Volume</th>\n",
              "      <th>Adj Close</th>\n",
              "      <th>P_mean</th>\n",
              "    </tr>\n",
              "    <tr>\n",
              "      <th>date</th>\n",
              "      <th></th>\n",
              "      <th></th>\n",
              "      <th></th>\n",
              "      <th></th>\n",
              "      <th></th>\n",
              "      <th></th>\n",
              "      <th></th>\n",
              "    </tr>\n",
              "  </thead>\n",
              "  <tbody>\n",
              "    <tr>\n",
              "      <th>2018-01-23</th>\n",
              "      <td>255.050003</td>\n",
              "      <td>257.709991</td>\n",
              "      <td>248.020004</td>\n",
              "      <td>250.289993</td>\n",
              "      <td>27705300.0</td>\n",
              "      <td>250.289993</td>\n",
              "      <td>-0.061196</td>\n",
              "    </tr>\n",
              "    <tr>\n",
              "      <th>2018-01-24</th>\n",
              "      <td>250.880005</td>\n",
              "      <td>261.709991</td>\n",
              "      <td>249.309998</td>\n",
              "      <td>261.299988</td>\n",
              "      <td>17352400.0</td>\n",
              "      <td>261.299988</td>\n",
              "      <td>-0.084525</td>\n",
              "    </tr>\n",
              "    <tr>\n",
              "      <th>2018-01-25</th>\n",
              "      <td>263.000000</td>\n",
              "      <td>272.299988</td>\n",
              "      <td>260.230011</td>\n",
              "      <td>269.700012</td>\n",
              "      <td>15336400.0</td>\n",
              "      <td>269.700012</td>\n",
              "      <td>-0.122744</td>\n",
              "    </tr>\n",
              "    <tr>\n",
              "      <th>2018-01-26</th>\n",
              "      <td>271.489990</td>\n",
              "      <td>274.600006</td>\n",
              "      <td>268.760010</td>\n",
              "      <td>274.600006</td>\n",
              "      <td>11021800.0</td>\n",
              "      <td>274.600006</td>\n",
              "      <td>-0.118012</td>\n",
              "    </tr>\n",
              "    <tr>\n",
              "      <th>2018-01-29</th>\n",
              "      <td>274.200012</td>\n",
              "      <td>286.809998</td>\n",
              "      <td>273.920013</td>\n",
              "      <td>284.589996</td>\n",
              "      <td>17529700.0</td>\n",
              "      <td>284.589996</td>\n",
              "      <td>-0.100690</td>\n",
              "    </tr>\n",
              "    <tr>\n",
              "      <th>...</th>\n",
              "      <td>...</td>\n",
              "      <td>...</td>\n",
              "      <td>...</td>\n",
              "      <td>...</td>\n",
              "      <td>...</td>\n",
              "      <td>...</td>\n",
              "      <td>...</td>\n",
              "    </tr>\n",
              "    <tr>\n",
              "      <th>2022-07-01</th>\n",
              "      <td>176.490005</td>\n",
              "      <td>180.100006</td>\n",
              "      <td>174.270004</td>\n",
              "      <td>179.949997</td>\n",
              "      <td>5194700.0</td>\n",
              "      <td>179.949997</td>\n",
              "      <td>-0.062315</td>\n",
              "    </tr>\n",
              "    <tr>\n",
              "      <th>2022-07-05</th>\n",
              "      <td>176.279999</td>\n",
              "      <td>185.919998</td>\n",
              "      <td>172.679993</td>\n",
              "      <td>185.880005</td>\n",
              "      <td>7334300.0</td>\n",
              "      <td>185.880005</td>\n",
              "      <td>-0.058824</td>\n",
              "    </tr>\n",
              "    <tr>\n",
              "      <th>2022-07-06</th>\n",
              "      <td>185.199997</td>\n",
              "      <td>186.220001</td>\n",
              "      <td>180.820007</td>\n",
              "      <td>184.059998</td>\n",
              "      <td>5753400.0</td>\n",
              "      <td>184.059998</td>\n",
              "      <td>-0.014870</td>\n",
              "    </tr>\n",
              "    <tr>\n",
              "      <th>2022-07-07</th>\n",
              "      <td>184.270004</td>\n",
              "      <td>190.210007</td>\n",
              "      <td>183.500000</td>\n",
              "      <td>189.270004</td>\n",
              "      <td>6334500.0</td>\n",
              "      <td>189.270004</td>\n",
              "      <td>-0.055427</td>\n",
              "    </tr>\n",
              "    <tr>\n",
              "      <th>2022-07-08</th>\n",
              "      <td>186.020004</td>\n",
              "      <td>189.910004</td>\n",
              "      <td>182.750000</td>\n",
              "      <td>186.979996</td>\n",
              "      <td>5831300.0</td>\n",
              "      <td>186.979996</td>\n",
              "      <td>-0.043011</td>\n",
              "    </tr>\n",
              "  </tbody>\n",
              "</table>\n",
              "<p>1123 rows × 7 columns</p>\n",
              "</div>\n",
              "      <button class=\"colab-df-convert\" onclick=\"convertToInteractive('df-af4d625b-88da-4001-8736-fc345f193059')\"\n",
              "              title=\"Convert this dataframe to an interactive table.\"\n",
              "              style=\"display:none;\">\n",
              "        \n",
              "  <svg xmlns=\"http://www.w3.org/2000/svg\" height=\"24px\"viewBox=\"0 0 24 24\"\n",
              "       width=\"24px\">\n",
              "    <path d=\"M0 0h24v24H0V0z\" fill=\"none\"/>\n",
              "    <path d=\"M18.56 5.44l.94 2.06.94-2.06 2.06-.94-2.06-.94-.94-2.06-.94 2.06-2.06.94zm-11 1L8.5 8.5l.94-2.06 2.06-.94-2.06-.94L8.5 2.5l-.94 2.06-2.06.94zm10 10l.94 2.06.94-2.06 2.06-.94-2.06-.94-.94-2.06-.94 2.06-2.06.94z\"/><path d=\"M17.41 7.96l-1.37-1.37c-.4-.4-.92-.59-1.43-.59-.52 0-1.04.2-1.43.59L10.3 9.45l-7.72 7.72c-.78.78-.78 2.05 0 2.83L4 21.41c.39.39.9.59 1.41.59.51 0 1.02-.2 1.41-.59l7.78-7.78 2.81-2.81c.8-.78.8-2.07 0-2.86zM5.41 20L4 18.59l7.72-7.72 1.47 1.35L5.41 20z\"/>\n",
              "  </svg>\n",
              "      </button>\n",
              "      \n",
              "  <style>\n",
              "    .colab-df-container {\n",
              "      display:flex;\n",
              "      flex-wrap:wrap;\n",
              "      gap: 12px;\n",
              "    }\n",
              "\n",
              "    .colab-df-convert {\n",
              "      background-color: #E8F0FE;\n",
              "      border: none;\n",
              "      border-radius: 50%;\n",
              "      cursor: pointer;\n",
              "      display: none;\n",
              "      fill: #1967D2;\n",
              "      height: 32px;\n",
              "      padding: 0 0 0 0;\n",
              "      width: 32px;\n",
              "    }\n",
              "\n",
              "    .colab-df-convert:hover {\n",
              "      background-color: #E2EBFA;\n",
              "      box-shadow: 0px 1px 2px rgba(60, 64, 67, 0.3), 0px 1px 3px 1px rgba(60, 64, 67, 0.15);\n",
              "      fill: #174EA6;\n",
              "    }\n",
              "\n",
              "    [theme=dark] .colab-df-convert {\n",
              "      background-color: #3B4455;\n",
              "      fill: #D2E3FC;\n",
              "    }\n",
              "\n",
              "    [theme=dark] .colab-df-convert:hover {\n",
              "      background-color: #434B5C;\n",
              "      box-shadow: 0px 1px 3px 1px rgba(0, 0, 0, 0.15);\n",
              "      filter: drop-shadow(0px 1px 2px rgba(0, 0, 0, 0.3));\n",
              "      fill: #FFFFFF;\n",
              "    }\n",
              "  </style>\n",
              "\n",
              "      <script>\n",
              "        const buttonEl =\n",
              "          document.querySelector('#df-af4d625b-88da-4001-8736-fc345f193059 button.colab-df-convert');\n",
              "        buttonEl.style.display =\n",
              "          google.colab.kernel.accessAllowed ? 'block' : 'none';\n",
              "\n",
              "        async function convertToInteractive(key) {\n",
              "          const element = document.querySelector('#df-af4d625b-88da-4001-8736-fc345f193059');\n",
              "          const dataTable =\n",
              "            await google.colab.kernel.invokeFunction('convertToInteractive',\n",
              "                                                     [key], {});\n",
              "          if (!dataTable) return;\n",
              "\n",
              "          const docLinkHtml = 'Like what you see? Visit the ' +\n",
              "            '<a target=\"_blank\" href=https://colab.research.google.com/notebooks/data_table.ipynb>data table notebook</a>'\n",
              "            + ' to learn more about interactive tables.';\n",
              "          element.innerHTML = '';\n",
              "          dataTable['output_type'] = 'display_data';\n",
              "          await google.colab.output.renderOutput(dataTable, element);\n",
              "          const docLink = document.createElement('div');\n",
              "          docLink.innerHTML = docLinkHtml;\n",
              "          element.appendChild(docLink);\n",
              "        }\n",
              "      </script>\n",
              "    </div>\n",
              "  </div>\n",
              "  "
            ]
          },
          "metadata": {},
          "execution_count": 7
        }
      ]
    },
    {
      "cell_type": "markdown",
      "source": [
        "LSTM Model"
      ],
      "metadata": {
        "id": "GdI4bSKvtSAn"
      }
    },
    {
      "cell_type": "markdown",
      "source": [
        "Data scaling for LSTM because uses sigmoid and tanh that are sensitive to magnitude"
      ],
      "metadata": {
        "id": "NNRCeuPStZKY"
      }
    },
    {
      "cell_type": "code",
      "source": [
        "scaler = MinMaxScaler()\n",
        "scaler = scaler.fit(df_for_training)\n",
        "df_for_training_scaled = scaler.transform(df_for_training)\n",
        "\n",
        "scaler_for_inference = MinMaxScaler()\n",
        "scaler_for_inference.fit_transform(df_for_training.loc[:,['Open','Adj Close']])\n",
        "\n",
        "df_for_training_scaled\n",
        "# df_for_training_scaled=df_for_training.copy()\n",
        "# df_for_training_scaled=df_for_training_scaled.to_numpy()"
      ],
      "metadata": {
        "colab": {
          "base_uri": "https://localhost:8080/"
        },
        "id": "ObDusLomrxwW",
        "outputId": "e1ab6905-635d-4c26-c745-ef6f0d2ff927"
      },
      "execution_count": null,
      "outputs": [
        {
          "output_type": "execute_result",
          "data": {
            "text/plain": [
              "array([[0.17239161, 0.16193068, 0.16299819, ..., 0.20085146, 0.15975024,\n",
              "        0.58996553],\n",
              "       [0.16449971, 0.16949312, 0.16546293, ..., 0.12256481, 0.18070889,\n",
              "        0.52005358],\n",
              "       [0.18743731, 0.18951466, 0.18632733, ..., 0.10732021, 0.19669918,\n",
              "        0.40552279],\n",
              "       ...,\n",
              "       [0.04019756, 0.02677103, 0.03460201, ..., 0.0348554 , 0.03367472,\n",
              "        0.72879365],\n",
              "       [0.03843751, 0.03431458, 0.03972256, ..., 0.03924957, 0.04359249,\n",
              "        0.60725335],\n",
              "       [0.04174946, 0.03374739, 0.03828956, ..., 0.03544446, 0.03923323,\n",
              "        0.6444625 ]])"
            ]
          },
          "metadata": {},
          "execution_count": 8
        }
      ]
    },
    {
      "cell_type": "markdown",
      "source": [
        "**As required for LSTM networks, we requires to reshape an input data into n_samples  x timestamp x n_features**"
      ],
      "metadata": {
        "id": "UmlbfA1Etucn"
      }
    },
    {
      "cell_type": "code",
      "source": [
        "#Empty lists to be populated using formatted training data\n",
        "trainX = []\n",
        "trainY = []\n",
        "\n",
        "n_future = 1   # Number of days we want to look into the future based on the past days.\n",
        "n_past = 5  # Number of past days we want to use to predict the future.\n",
        "\n",
        "#Reformat input data into a shape: (n_samples x timesteps x n_features)\n",
        "#In my example, my df_for_training_scaled has a shape (12823, 5)\n",
        "#12823 refers to the number of data points and 5 refers to the columns (multi-variables).\n",
        "for i in range(n_past, len(df_for_training_scaled) - n_future +1):\n",
        "    trainX.append(df_for_training_scaled[i - n_past:i, 0:df_for_training.shape[1]])\n",
        "    trainY.append(df_for_training_scaled[i + n_future - 1:i + n_future,[0,-2]])\n",
        "\n",
        "trainX, trainY = np.array(trainX), np.array(trainY)\n",
        "\n",
        "print('TrainX shape = {}.'.format(trainX.shape))\n",
        "print('TrainY shape = {}.'.format(trainY.shape))"
      ],
      "metadata": {
        "colab": {
          "base_uri": "https://localhost:8080/"
        },
        "id": "th3otpjxtnRM",
        "outputId": "3bf0d8e4-6c31-4b96-b33f-2739e3f26b20"
      },
      "execution_count": null,
      "outputs": [
        {
          "output_type": "stream",
          "name": "stdout",
          "text": [
            "TrainX shape = (1118, 5, 7).\n",
            "TrainY shape = (1118, 1, 2).\n"
          ]
        }
      ]
    },
    {
      "cell_type": "markdown",
      "source": [
        "Train test split for LSTM"
      ],
      "metadata": {
        "id": "u5I_gqMYuP3Y"
      }
    },
    {
      "cell_type": "code",
      "source": [
        "from sklearn.model_selection import train_test_split\n",
        "\n",
        "X_train_lstm_without_twitter, X_test_lstm_without_twitter, y_train_lstm_without_twitter, y_test_lstm_without_twitter = train_test_split(trainX[:,:,:-1], trainY, test_size=0.2, shuffle=False)\n",
        "\n",
        "X_train_lstm_twitter, X_test_lstm_twitter, y_train_lstm_twitter, y_test_lstm_twitter = train_test_split(trainX, trainY, test_size=0.2, shuffle=False)\n",
        "\n",
        "X_train_lstm_without_twitter.shape,X_train_lstm_twitter.shape"
      ],
      "metadata": {
        "colab": {
          "base_uri": "https://localhost:8080/"
        },
        "id": "NbwTa9KTuTTE",
        "outputId": "ff8ef697-74c3-4ced-909c-afe19ab13da6"
      },
      "execution_count": null,
      "outputs": [
        {
          "output_type": "execute_result",
          "data": {
            "text/plain": [
              "((894, 5, 6), (894, 5, 7))"
            ]
          },
          "metadata": {},
          "execution_count": 10
        }
      ]
    },
    {
      "cell_type": "markdown",
      "source": [
        "Train validation split for LSTM"
      ],
      "metadata": {
        "id": "n4Xi-_75uZm2"
      }
    },
    {
      "cell_type": "code",
      "source": [
        "from sklearn.model_selection import train_test_split\n",
        "\n",
        "X_train_lstm_without_twitter, X_val_lstm_without_twitter, y_train_lstm_without_twitter, y_val_lstm_without_twitter = train_test_split(X_train_lstm_without_twitter, y_train_lstm_without_twitter, test_size=0.1, shuffle=False)\n",
        "\n",
        "X_train_lstm_twitter, X_val_lstm_twitter, y_train_lstm_twitter, y_val_lstm_twitter = train_test_split(X_train_lstm_twitter, y_train_lstm_twitter, test_size=0.1, shuffle=False)\n",
        "\n",
        "X_train_lstm_without_twitter.shape,X_train_lstm_twitter.shape"
      ],
      "metadata": {
        "colab": {
          "base_uri": "https://localhost:8080/"
        },
        "id": "zKPEEDpxufka",
        "outputId": "c07fd275-da21-4100-e5e7-186610a5061d"
      },
      "execution_count": null,
      "outputs": [
        {
          "output_type": "execute_result",
          "data": {
            "text/plain": [
              "((804, 5, 6), (804, 5, 7))"
            ]
          },
          "metadata": {},
          "execution_count": 11
        }
      ]
    },
    {
      "cell_type": "markdown",
      "source": [
        "**Model architecture**"
      ],
      "metadata": {
        "id": "t9aDoJknunDm"
      }
    },
    {
      "cell_type": "code",
      "source": [
        "def build_model(input_shape):\n",
        "    tf.random.set_seed(seed)\n",
        "    cnn_lstm_model = Sequential()\n",
        "\n",
        "    cnn_lstm_model.add(Conv1D(filters=128, kernel_size=2, strides=1, padding='valid', input_shape=input_shape))\n",
        "    cnn_lstm_model.add(MaxPooling1D(pool_size=2, strides=2))\n",
        "\n",
        "    cnn_lstm_model.add(Conv1D(filters=64, kernel_size=2, strides=1, padding='valid'))\n",
        "    cnn_lstm_model.add(MaxPooling1D(pool_size=1, strides=2))\n",
        "    # cnn_lstm_model.add(MaxPooling1D(pool_size=1, strides=2))\n",
        "\n",
        "    cnn_lstm_model.add(Bidirectional(CuDNNLSTM(256, return_sequences=True)))\n",
        "    cnn_lstm_model.add(Dropout(0.2))\n",
        "    cnn_lstm_model.add(Bidirectional(CuDNNLSTM(256, return_sequences=True)))\n",
        "    cnn_lstm_model.add(Dropout(0.2))\n",
        "\n",
        "    cnn_lstm_model.add(Dense(32, activation='relu'))\n",
        "\n",
        "\n",
        "    cnn_lstm_model.add(Dense(trainY.shape[2], activation='relu'))\n",
        "\n",
        "    # cnn_lstm_model.build(input_shape=(trainX.shape[0], trainX.shape[1], trainX.shape[2]))\n",
        "\n",
        "    cnn_lstm_model.compile(optimizer='adam', loss='mse')\n",
        "    cnn_lstm_model.summary()\n",
        "    return cnn_lstm_model"
      ],
      "metadata": {
        "id": "TJMgQRIzuw41"
      },
      "execution_count": null,
      "outputs": []
    },
    {
      "cell_type": "code",
      "source": [
        "# fit the model\n",
        "\n",
        "cnn_lstm_model_without_twitter=build_model((X_train_lstm_without_twitter.shape[1],X_train_lstm_without_twitter.shape[2]))\n",
        "cnn_lstm_model_twitter=build_model((X_train_lstm_twitter.shape[1],X_train_lstm_twitter.shape[2]))\n",
        "\n",
        "history_without_twitter = cnn_lstm_model_without_twitter.fit(X_train_lstm_without_twitter, y_train_lstm_without_twitter, epochs=50, batch_size=64, validation_data=(X_val_lstm_without_twitter, y_val_lstm_without_twitter), verbose=1, )\n",
        "\n",
        "\n",
        "history_twitter = cnn_lstm_model_twitter.fit(X_train_lstm_twitter, y_train_lstm_twitter, epochs=50, batch_size=64, validation_data=(X_val_lstm_twitter, y_val_lstm_twitter), verbose=1, )"
      ],
      "metadata": {
        "id": "pr2uM4eNvANz"
      },
      "execution_count": null,
      "outputs": []
    },
    {
      "cell_type": "markdown",
      "source": [
        "**Plotting Training and validation loss**"
      ],
      "metadata": {
        "id": "A3gjXpPov5s0"
      }
    },
    {
      "cell_type": "code",
      "source": [
        "plt.figure(figsize=(20,5))\n",
        "plt.plot(history_without_twitter.history['loss'], label='Training loss')\n",
        "plt.plot(history_without_twitter.history['val_loss'], label='Validation loss')\n",
        "plt.title('Training loss Vs. Validation loss without twitter sentiment analysis')\n",
        "plt.legend()"
      ],
      "metadata": {
        "id": "yBMvfwJKv9HX"
      },
      "execution_count": null,
      "outputs": []
    },
    {
      "cell_type": "code",
      "source": [
        "plt.figure(figsize=(20,5))\n",
        "plt.plot(history_twitter.history['loss'], label='Training loss')\n",
        "plt.plot(history_twitter.history['val_loss'], label='Validation loss')\n",
        "plt.title('Training loss Vs. Validation loss including twitter sentiment analysis')\n",
        "plt.legend()"
      ],
      "metadata": {
        "id": "wRBCnOIJwH42"
      },
      "execution_count": null,
      "outputs": []
    },
    {
      "cell_type": "markdown",
      "source": [
        "**Plotting**"
      ],
      "metadata": {
        "id": "e4DmRX3-wb73"
      }
    },
    {
      "cell_type": "code",
      "source": [
        "from sklearn.metrics import mean_squared_error,mean_absolute_error\n",
        "from math import sqrt\n",
        "\n",
        "def plot_predictions_with_dates (type,twitter,dates,y_actual_lstm,y_pred_lstm):\n",
        "    predicted_features=['Open','Adj Close']\n",
        "    for i,predicted_feature in enumerate(predicted_features):\n",
        "        plt.figure(figsize=(15,6))\n",
        "        if twitter :\n",
        "            plt.title(f'LSTM {type} prediction of {predicted_feature} feature After adding twitter sentiment analysis')\n",
        "        else:\n",
        "            plt.title(f'LSTM {type} prediction of {predicted_feature} feature without twitter sentiment analysis')\n",
        "        sns.lineplot(x=dates, y=y_actual_lstm[:,i],label='Actual')\n",
        "        sns.lineplot(x=dates, y=y_pred_lstm[:, i], label='Predicted')\n",
        "        plt.show()\n",
        "        error=mean_squared_error(y_actual_lstm[:,i], y_pred_lstm[:, i])\n",
        "        print(f'Mean square error for {predicted_feature} ={error}')\n",
        "    print('Total mean square error', mean_squared_error(y_actual_lstm, y_pred_lstm))"
      ],
      "metadata": {
        "id": "Tmfyyuq3wV6c"
      },
      "execution_count": null,
      "outputs": []
    },
    {
      "cell_type": "markdown",
      "source": [
        "Computing training accuracy"
      ],
      "metadata": {
        "id": "NeIZAT1Wwtm2"
      }
    },
    {
      "cell_type": "code",
      "source": [
        "training_dates= df_for_training.index[:X_train_lstm_without_twitter.shape[0]]\n",
        "#Make prediction\n",
        "training_prediction_without_twitter = cnn_lstm_model_without_twitter.predict(X_train_lstm_without_twitter)\n",
        "\n",
        "training_prediction_twitter = cnn_lstm_model_twitter.predict(X_train_lstm_twitter)\n",
        "\n",
        "training_prediction_without_twitter=training_prediction_without_twitter.reshape(training_prediction_without_twitter.shape[0], training_prediction_without_twitter.shape[2])\n",
        "\n",
        "training_prediction_twitter=training_prediction_twitter.reshape(training_prediction_twitter.shape[0], training_prediction_twitter.shape[2])\n",
        "\n",
        "y_train_pred_lstm_without_twitter = scaler_for_inference.inverse_transform(training_prediction_without_twitter)\n",
        "\n",
        "y_train_pred_lstm_twitter = scaler_for_inference.inverse_transform(training_prediction_twitter)\n",
        "\n",
        "y_train_lstm_reshaped_without_twitter=y_train_lstm_without_twitter.reshape(y_train_lstm_without_twitter.shape[0], y_train_lstm_without_twitter.shape[2])\n",
        "\n",
        "y_train_actual_lstm = scaler_for_inference.inverse_transform(y_train_lstm_reshaped_without_twitter)"
      ],
      "metadata": {
        "id": "L9LbISflw6DW"
      },
      "execution_count": null,
      "outputs": []
    },
    {
      "cell_type": "markdown",
      "source": [
        "\n",
        "**Training accuracy without twitter**\n"
      ],
      "metadata": {
        "id": "gOy-mmP7xUbk"
      }
    },
    {
      "cell_type": "code",
      "source": [
        "plot_predictions_with_dates('Training',False,training_dates,y_train_actual_lstm,y_train_pred_lstm_without_twitter)"
      ],
      "metadata": {
        "id": "MOYhR5kCxf4i"
      },
      "execution_count": null,
      "outputs": []
    },
    {
      "cell_type": "code",
      "source": [
        "plot_predictions_with_dates('Training',True,training_dates,y_train_actual_lstm,y_train_pred_lstm_twitter)"
      ],
      "metadata": {
        "id": "-LEXUps9xsvV"
      },
      "execution_count": null,
      "outputs": []
    },
    {
      "cell_type": "markdown",
      "source": [
        "Computing validation accuracy¶\n"
      ],
      "metadata": {
        "id": "ZJi_w6irx8um"
      }
    },
    {
      "cell_type": "code",
      "source": [
        "validation_dates= df_for_training.index[X_train_lstm_without_twitter.shape[0]:X_train_lstm_without_twitter.shape[0] + X_val_lstm_without_twitter.shape[0]]\n",
        "#Make prediction\n",
        "validation_prediction_without_twitter = cnn_lstm_model_without_twitter.predict(X_val_lstm_without_twitter)\n",
        "\n",
        "validation_prediction_twitter = cnn_lstm_model_twitter.predict(X_val_lstm_twitter)\n",
        "\n",
        "validation_prediction_without_twitter=validation_prediction_without_twitter.reshape(validation_prediction_without_twitter.shape[0], validation_prediction_without_twitter.shape[2])\n",
        "\n",
        "\n",
        "validation_prediction_twitter=validation_prediction_twitter.reshape(validation_prediction_twitter.shape[0], validation_prediction_twitter.shape[2])\n",
        "\n",
        "\n",
        "y_val_pred_lstm_without_twitter = scaler_for_inference.inverse_transform(validation_prediction_without_twitter)\n",
        "y_val_pred_lstm_twitter = scaler_for_inference.inverse_transform(validation_prediction_twitter)\n",
        "\n",
        "y_val_actual_lstm_reshaped_without_twitter=y_val_lstm_without_twitter.reshape(y_val_lstm_without_twitter.shape[0], y_val_lstm_without_twitter.shape[2])\n",
        "\n",
        "y_val_actual_lstm = scaler_for_inference.inverse_transform(y_val_actual_lstm_reshaped_without_twitter)\n"
      ],
      "metadata": {
        "id": "3KueMMPcyKS2"
      },
      "execution_count": null,
      "outputs": []
    },
    {
      "cell_type": "markdown",
      "source": [
        "**Validation accuracy without twitter**"
      ],
      "metadata": {
        "id": "wHyFuw3tySeX"
      }
    },
    {
      "cell_type": "code",
      "source": [
        "plot_predictions_with_dates('Validation',False,validation_dates,y_val_actual_lstm,y_val_pred_lstm_without_twitter)\n"
      ],
      "metadata": {
        "id": "fQx3EOiLybpt"
      },
      "execution_count": null,
      "outputs": []
    },
    {
      "cell_type": "markdown",
      "source": [
        "**Validation accuracy after adding the impact of twitter sentiment analysis**"
      ],
      "metadata": {
        "id": "_9YcdpRFyheF"
      }
    },
    {
      "cell_type": "code",
      "source": [
        "plot_predictions_with_dates('Validation',True,validation_dates,y_val_actual_lstm,y_val_pred_lstm_twitter)"
      ],
      "metadata": {
        "id": "ED0m6YY7yowI"
      },
      "execution_count": null,
      "outputs": []
    },
    {
      "cell_type": "markdown",
      "source": [
        "**Computing testing accuracy**"
      ],
      "metadata": {
        "id": "Y3bnVpoby52Y"
      }
    },
    {
      "cell_type": "code",
      "source": [
        "testing_dates= df_for_training.index[-X_test_lstm_without_twitter.shape[0]:]\n",
        "#Make prediction\n",
        "testing_prediction_without_twitter = cnn_lstm_model_without_twitter.predict(X_test_lstm_without_twitter)\n",
        "testing_prediction_twitter = cnn_lstm_model_twitter.predict(X_test_lstm_twitter)\n",
        "\n",
        "testing_prediction_without_twitter=testing_prediction_without_twitter.reshape(testing_prediction_without_twitter.shape[0], testing_prediction_without_twitter.shape[2])\n",
        "testing_prediction_twitter=testing_prediction_twitter.reshape(testing_prediction_twitter.shape[0], testing_prediction_twitter.shape[2])\n",
        "\n",
        "y_test_pred_lstm_without_twitter = scaler_for_inference.inverse_transform(testing_prediction_without_twitter)\n",
        "y_test_pred_lstm_twitter = scaler_for_inference.inverse_transform(testing_prediction_twitter)\n",
        "\n",
        "y_test_actual_lstm_reshaped_without_twitter=y_test_lstm_without_twitter.reshape(y_test_lstm_without_twitter.shape[0], y_test_lstm_without_twitter.shape[2])\n",
        "\n",
        "\n",
        "y_test_actual_lstm = scaler_for_inference.inverse_transform(y_test_actual_lstm_reshaped_without_twitter)"
      ],
      "metadata": {
        "id": "__-8jmH1zERQ"
      },
      "execution_count": null,
      "outputs": []
    },
    {
      "cell_type": "markdown",
      "source": [
        "Testing accuracy without twitter"
      ],
      "metadata": {
        "id": "TPyuZztEzQzl"
      }
    },
    {
      "cell_type": "code",
      "source": [
        "plot_predictions_with_dates('Testing',False,testing_dates,y_test_actual_lstm,y_test_pred_lstm_without_twitter)"
      ],
      "metadata": {
        "id": "0WwueJgAzYhR"
      },
      "execution_count": null,
      "outputs": []
    },
    {
      "cell_type": "markdown",
      "source": [
        "**Testing accuracy after adding the impact of twitter sentiment analysis**"
      ],
      "metadata": {
        "id": "tWQx2SMWzfoP"
      }
    },
    {
      "cell_type": "code",
      "source": [
        "plot_predictions_with_dates('Testing',True,testing_dates,y_test_actual_lstm,y_test_pred_lstm_twitter)\n"
      ],
      "metadata": {
        "id": "Qnuj79onzoL2"
      },
      "execution_count": null,
      "outputs": []
    },
    {
      "cell_type": "markdown",
      "source": [
        "**ARIMA**"
      ],
      "metadata": {
        "id": "4Qzcu8nfz2nj"
      }
    },
    {
      "cell_type": "code",
      "source": [
        "!pip install pmdarima"
      ],
      "metadata": {
        "colab": {
          "base_uri": "https://localhost:8080/",
          "height": 589
        },
        "id": "S_bg9Qi00ETs",
        "outputId": "4bc075cd-1f7b-4059-c09f-4a4952ff7336"
      },
      "execution_count": null,
      "outputs": [
        {
          "output_type": "stream",
          "name": "stdout",
          "text": [
            "Looking in indexes: https://pypi.org/simple, https://us-python.pkg.dev/colab-wheels/public/simple/\n",
            "Collecting pmdarima\n",
            "  Downloading pmdarima-2.0.1-cp37-cp37m-manylinux_2_17_x86_64.manylinux2014_x86_64.manylinux_2_28_x86_64.whl (1.8 MB)\n",
            "\u001b[K     |████████████████████████████████| 1.8 MB 29.2 MB/s \n",
            "\u001b[?25hRequirement already satisfied: Cython!=0.29.18,!=0.29.31,>=0.29 in /usr/local/lib/python3.7/dist-packages (from pmdarima) (0.29.32)\n",
            "Requirement already satisfied: pandas>=0.19 in /usr/local/lib/python3.7/dist-packages (from pmdarima) (1.3.5)\n",
            "Requirement already satisfied: setuptools!=50.0.0,>=38.6.0 in /usr/local/lib/python3.7/dist-packages (from pmdarima) (57.4.0)\n",
            "Requirement already satisfied: joblib>=0.11 in /usr/local/lib/python3.7/dist-packages (from pmdarima) (1.1.0)\n",
            "Requirement already satisfied: numpy>=1.21 in /usr/local/lib/python3.7/dist-packages (from pmdarima) (1.21.6)\n",
            "Collecting statsmodels>=0.13.2\n",
            "  Downloading statsmodels-0.13.2-cp37-cp37m-manylinux_2_17_x86_64.manylinux2014_x86_64.whl (9.8 MB)\n",
            "\u001b[K     |████████████████████████████████| 9.8 MB 84.6 MB/s \n",
            "\u001b[?25hRequirement already satisfied: urllib3 in /usr/local/lib/python3.7/dist-packages (from pmdarima) (1.24.3)\n",
            "Requirement already satisfied: scipy>=1.3.2 in /usr/local/lib/python3.7/dist-packages (from pmdarima) (1.7.3)\n",
            "Requirement already satisfied: scikit-learn>=0.22 in /usr/local/lib/python3.7/dist-packages (from pmdarima) (1.0.2)\n",
            "Requirement already satisfied: python-dateutil>=2.7.3 in /usr/local/lib/python3.7/dist-packages (from pandas>=0.19->pmdarima) (2.8.2)\n",
            "Requirement already satisfied: pytz>=2017.3 in /usr/local/lib/python3.7/dist-packages (from pandas>=0.19->pmdarima) (2022.2.1)\n",
            "Requirement already satisfied: six>=1.5 in /usr/local/lib/python3.7/dist-packages (from python-dateutil>=2.7.3->pandas>=0.19->pmdarima) (1.15.0)\n",
            "Requirement already satisfied: threadpoolctl>=2.0.0 in /usr/local/lib/python3.7/dist-packages (from scikit-learn>=0.22->pmdarima) (3.1.0)\n",
            "Requirement already satisfied: patsy>=0.5.2 in /usr/local/lib/python3.7/dist-packages (from statsmodels>=0.13.2->pmdarima) (0.5.2)\n",
            "Requirement already satisfied: packaging>=21.3 in /usr/local/lib/python3.7/dist-packages (from statsmodels>=0.13.2->pmdarima) (21.3)\n",
            "Requirement already satisfied: pyparsing!=3.0.5,>=2.0.2 in /usr/local/lib/python3.7/dist-packages (from packaging>=21.3->statsmodels>=0.13.2->pmdarima) (3.0.9)\n",
            "Installing collected packages: statsmodels, pmdarima\n",
            "  Attempting uninstall: statsmodels\n",
            "    Found existing installation: statsmodels 0.12.2\n",
            "    Uninstalling statsmodels-0.12.2:\n",
            "      Successfully uninstalled statsmodels-0.12.2\n",
            "Successfully installed pmdarima-2.0.1 statsmodels-0.13.2\n"
          ]
        },
        {
          "output_type": "display_data",
          "data": {
            "application/vnd.colab-display-data+json": {
              "pip_warning": {
                "packages": [
                  "statsmodels"
                ]
              }
            }
          },
          "metadata": {}
        }
      ]
    },
    {
      "cell_type": "markdown",
      "source": [
        "\n",
        "\n",
        "**Train test split for Arima¶**"
      ],
      "metadata": {
        "id": "e71WoKTJ0Xnt"
      }
    },
    {
      "cell_type": "code",
      "source": [
        "df_arima=df_for_training.copy()\n",
        "# df_arima['Volume']=df['Volume']\n",
        "n_past_for_arima=1\n",
        "adj_close_feature=df_arima['Adj Close']\n",
        "open_feature=df_arima['Open']\n",
        "df_arima['Adj Close']=df_arima['Adj Close'].shift(-n_past_for_arima)\n",
        "df_arima['Open']=df_arima['Open'].shift(-n_past_for_arima)\n",
        "df_arima.dropna(inplace=True)\n",
        "df_arima['Adj Close_feature']=adj_close_feature.iloc[:-1]\n",
        "df_arima['open_feature_feature']=open_feature.iloc[:-1]\n",
        "# df_arima=df_arima.reindex(columns=['open_lag','High', 'Low', 'Close', 'adj_close_lag','P_mean','Adj Close','Open',])\n",
        "X_arima=df_arima.drop(['Adj Close','Open'],axis=1)\n",
        "y_arima=df_arima[['Open','Adj Close']]\n",
        "X_train_arima_twitter, X_test_arima_twitter, y_train_arima, y_test_arima=train_test_split(X_arima, y_arima, test_size=0.2, shuffle=False)\n",
        "\n",
        "X_train_arima_without_twitter, X_test_arima_without_twitter= X_train_arima_twitter.drop('P_mean', axis=1), X_test_arima_twitter.drop('P_mean', axis=1)\n",
        "X_train_arima_without_twitter\n"
      ],
      "metadata": {
        "id": "S5GfkINb1AGU"
      },
      "execution_count": null,
      "outputs": []
    },
    {
      "cell_type": "code",
      "source": [
        "X_train_arima_twitter\n"
      ],
      "metadata": {
        "id": "sjVQvIrB1Thv"
      },
      "execution_count": null,
      "outputs": []
    },
    {
      "cell_type": "markdown",
      "source": [
        "\tHigh\tLow\tClose\tVolume\tP_mean\tAdj Close_feature\topen_feature_feature\n",
        "date\t\t\t\t\t\t\t\n",
        "2018-01-23\t257.709991\t248.020004\t250.289993\t27705300.0\t-0.061196\t261.299988\t250.880005\n",
        "2018-01-24\t261.709991\t249.309998\t261.299988\t17352400.0\t-0.084525\t269.700012\t263.000000\n",
        "2018-01-25\t272.299988\t260.230011\t269.700012\t15336400.0\t-0.122744\t274.600006\t271.489990\n",
        "2018-01-26\t274.600006\t268.760010\t274.600006\t11021800.0\t-0.118012\t284.589996\t274.200012\n",
        "2018-01-29\t286.809998\t273.920013\t284.589996\t17529700.0\t-0.100690\t278.799988\t277.000000\n",
        "...\t...\t...\t...\t...\t...\t...\t...\n",
        "2021-08-09\t522.669983\t517.989990\t519.969971\t1367800.0\t-0.051282\t515.840027\t520.000000\n",
        "2021-08-10\t520.789978\t512.969971\t515.840027\t1960500.0\t-0.085427\t512.400024\t517.000000\n",
        "2021-08-11\t519.570007\t509.769989\t512.400024\t1673900.0\t-0.058824\t510.720001\t511.859985\n",
        "2021-08-12\t513.000000\t507.200012\t510.720001\t1685700.0\t-0.023041\t515.919983\t512.640015\n",
        "2021-08-13\t521.440002\t511.510010\t515.919983\t2177700.0\t-0.082237\t517.919983\t515.239990"
      ],
      "metadata": {
        "id": "bau9YrDlRqND"
      }
    },
    {
      "cell_type": "markdown",
      "source": [
        "**Arima model to predict open prices**"
      ],
      "metadata": {
        "id": "GNoB6LEL1h5o"
      }
    },
    {
      "cell_type": "code",
      "source": [
        "from pmdarima import auto_arima\n",
        "arima_model_for_open_without_twitter = auto_arima(y_train_arima['Open'], exogenous=X_train_arima_without_twitter,\n",
        "                                                  start_p=2, d=None, start_q=3, max_p=5, max_d=3, max_q=5, D=None, start_Q=1, max_P=2, max_D=1, max_Q=2, max_order=5,\n",
        "                                                  seasonal=True,\n",
        "                                                  error_action='ignore',\n",
        "                                                  suppress_warnings=True,\n",
        "                                                  stepwise=True\n",
        "                                                  )\n",
        "\n",
        "arima_model_for_open_twitter = auto_arima(y_train_arima['Open'], exogenous=X_train_arima_twitter,\n",
        "                                          start_p=2, d=None, start_q=3, max_p=5, max_d=3, max_q=5, D=None, start_Q=1, max_P=2, max_D=1, max_Q=2, max_order=5,\n",
        "                                          seasonal=True,\n",
        "                                          error_action='ignore',\n",
        "                                          suppress_warnings=True,\n",
        "                                          stepwise=True\n",
        "                                          )\n",
        "arima_model_for_open_without_twitter.summary()\n",
        "arima_model_for_open_twitter.summary()"
      ],
      "metadata": {
        "id": "ex54Leoy1uPz"
      },
      "execution_count": null,
      "outputs": []
    },
    {
      "cell_type": "markdown",
      "source": [
        "SARIMAX Results\n",
        "Dep. Variable:\ty\tNo. Observations:\t897\n",
        "Model:\tSARIMAX(0, 1, 0)\tLog Likelihood\t9481.618\n",
        "Date:\tThu, 18 Aug 2022\tAIC\t-18947.237\n",
        "Time:\t12:09:19\tBIC\t-18908.853\n",
        "Sample:\t0\tHQIC\t-18932.571\n",
        "- 897\t\t\n",
        "Covariance Type:\topg\t\t\n",
        "coef\tstd err\tz\tP>|z|\t[0.025\t0.975]\n",
        "High\t-7.286e-16\t0.000\t-2.5e-12\t1.000\t-0.001\t0.001\n",
        "Low\t1.2e-15\t0.001\t9.7e-13\t1.000\t-0.002\t0.002\n",
        "Close\t2.776e-17\t0.001\t2.99e-14\t1.000\t-0.002\t0.002\n",
        "Volume\t-8.703e-17\t9.49e-10\t-9.17e-08\t1.000\t-1.86e-09\t1.86e-09\n",
        "P_mean\t2.17e-14\t1.58e-06\t1.38e-08\t1.000\t-3.09e-06\t3.09e-06\n",
        "Adj Close_feature\t1.336e-16\t0.001\t1.74e-13\t1.000\t-0.002\t0.002\n",
        "open_feature_feature\t1.0000\t0.001\t1411.750\t0.000\t0.999\t1.001\n",
        "sigma2\t1e-10\t6.81e-11\t1.468\t0.142\t-3.35e-11\t2.34e-10\n",
        "Ljung-Box (L1) (Q):\t48.88\tJarque-Bera (JB):\t12453.04\n",
        "Prob(Q):\t0.00\tProb(JB):\t0.00\n",
        "Heteroskedasticity (H):\t0.42\tSkew:\t0.10\n",
        "Prob(H) (two-sided):\t0.00\tKurtosis:\t21.26\n",
        "\n",
        "\n"
      ],
      "metadata": {
        "id": "xBiVPMsQR1d6"
      }
    },
    {
      "cell_type": "markdown",
      "source": [
        "**Computing training accuracy for open prices**"
      ],
      "metadata": {
        "id": "Ka4PHhSP14Hz"
      }
    },
    {
      "cell_type": "code",
      "source": [
        "from sklearn.metrics import mean_squared_error,mean_absolute_error\n",
        "train_prediction_without_twitter= arima_model_for_open_without_twitter.predict(n_periods=len(X_train_arima_without_twitter), exogenous=X_train_arima_without_twitter)\n",
        "train_prediction_twitter= arima_model_for_open_twitter.predict(n_periods=len(X_train_arima_twitter), exogenous=X_train_arima_twitter)\n",
        "plt.figure(figsize=(15,6))\n",
        "sns.lineplot(x=y_train_arima['Open'].index, y=y_train_arima['Open'], label='Actual')\n",
        "sns.lineplot(x=y_train_arima['Open'].index, y=train_prediction_without_twitter, label='Prediction')\n",
        "plt.title('Arima training Accuracy for Open without twitter sentiment analysis')\n",
        "plt.show()\n",
        "e=mean_squared_error(train_prediction_without_twitter, y_train_arima['Open'])\n",
        "print(f'Training mean square error for open feature without twitter {e}')\n",
        "\n",
        "plt.figure(figsize=(15,6))\n",
        "sns.lineplot(x=y_train_arima['Open'].index, y=y_train_arima['Open'], label='Actual')\n",
        "sns.lineplot(x=y_train_arima['Open'].index, y=train_prediction_twitter, label='Prediction')\n",
        "plt.title('Arima training Accuracy for Open after adding twitter sentiment analysis')\n",
        "plt.show()\n",
        "e=mean_squared_error(train_prediction_twitter, y_train_arima['Open'])\n",
        "print(f'Training mean square error for open feature with twitter {e}')"
      ],
      "metadata": {
        "id": "SLNx4Vvu1-fA"
      },
      "execution_count": null,
      "outputs": []
    },
    {
      "cell_type": "markdown",
      "source": [
        "**Arima model for Adjusted Close prices**"
      ],
      "metadata": {
        "id": "6_kOu8p22uBs"
      }
    },
    {
      "cell_type": "code",
      "source": [
        "from pmdarima import auto_arima\n",
        "arima_model_for_Adj_Close_without_twitter = auto_arima(y_train_arima['Adj Close'], exogenous=X_train_arima_without_twitter,\n",
        "                                                  start_p=2, d=None, start_q=3, max_p=5, max_d=3, max_q=5, D=None, start_Q=1, max_P=2, max_D=1, max_Q=2, max_order=5,\n",
        "                                                  seasonal=True,\n",
        "                                                  error_action='ignore',\n",
        "                                                  suppress_warnings=True,\n",
        "                                                  stepwise=True\n",
        "                                                  )\n",
        "\n",
        "arima_model_for_Adj_Close_twitter = auto_arima(y_train_arima['Adj Close'], exogenous=X_train_arima_twitter,\n",
        "                                          start_p=2, d=None, start_q=3, max_p=5, max_d=3, max_q=5, D=None, start_Q=1, max_P=2, max_D=1, max_Q=2, max_order=5,\n",
        "                                          seasonal=True,\n",
        "                                          error_action='ignore',\n",
        "                                          suppress_warnings=True,\n",
        "                                          stepwise=True\n",
        "                                          )\n",
        "arima_model_for_Adj_Close_without_twitter.summary()\n",
        "arima_model_for_Adj_Close_twitter.summary()"
      ],
      "metadata": {
        "id": "lSjwNagr25qA"
      },
      "execution_count": null,
      "outputs": []
    },
    {
      "cell_type": "markdown",
      "source": [
        "SARIMAX Results\n",
        "Dep. Variable:\ty\tNo. Observations:\t897\n",
        "Model:\tSARIMAX(0, 1, 0)\tLog Likelihood\t9481.618\n",
        "Date:\tWed, 24 Aug 2022\tAIC\t-18947.237\n",
        "Time:\t21:43:16\tBIC\t-18908.853\n",
        "Sample:\t0\tHQIC\t-18932.571\n",
        "- 897\t\t\n",
        "Covariance Type:\topg\t\t\n",
        "coef\tstd err\tz\tP>|z|\t[0.025\t0.975]\n",
        "High\t4.788e-16\t6.27e-16\t0.764\t0.445\t-7.5e-16\t1.71e-15\n",
        "Low\t-6.939e-18\t3.45e-15\t-0.002\t0.998\t-6.77e-15\t6.76e-15\n",
        "Close\t-2.88e-16\t3.78e-16\t-0.762\t0.446\t-1.03e-15\t4.52e-16\n",
        "Volume\t8.506e-18\t5.26e-09\t1.62e-09\t1.000\t-1.03e-08\t1.03e-08\n",
        "P_mean\t4.219e-14\t5.34e-20\t7.9e+05\t0.000\t4.22e-14\t4.22e-14\n",
        "Adj Close_feature\t1.0000\t3.12e-17\t3.21e+16\t0.000\t1.000\t1.000\n",
        "open_feature_feature\t-3.747e-16\t2.4e-15\t-0.156\t0.876\t-5.07e-15\t4.32e-15\n",
        "sigma2\t1e-10\t6.79e-11\t1.474\t0.141\t-3.3e-11\t2.33e-10\n",
        "Ljung-Box (L1) (Q):\t48.85\tJarque-Bera (JB):\t12430.42\n",
        "Prob(Q):\t0.00\tProb(JB):\t0.00\n",
        "Heteroskedasticity (H):\t0.42\tSkew:\t-0.10\n",
        "Prob(H) (two-sided):\t0.00\tKurtosis:\t21.25\n"
      ],
      "metadata": {
        "id": "ZIjmW4MjP8MM"
      }
    },
    {
      "cell_type": "markdown",
      "source": [
        "**Computing training accuracy for Adjusted Close prices**"
      ],
      "metadata": {
        "id": "gO_S3_QB3F2A"
      }
    },
    {
      "cell_type": "code",
      "source": [
        "from sklearn.metrics import mean_squared_error,mean_absolute_error\n",
        "train_prediction_without_twitter= arima_model_for_Adj_Close_without_twitter.predict(n_periods=len(X_train_arima_without_twitter), exogenous=X_train_arima_without_twitter)\n",
        "train_prediction_twitter= arima_model_for_Adj_Close_twitter.predict(n_periods=len(X_train_arima_twitter), exogenous=X_train_arima_twitter)\n",
        "plt.figure(figsize=(15,6))\n",
        "sns.lineplot(x=y_train_arima['Adj Close'].index, y=y_train_arima['Adj Close'], label='Actual')\n",
        "sns.lineplot(x=y_train_arima['Adj Close'].index, y=train_prediction_without_twitter, label='Prediction')\n",
        "plt.title('Arima training Accuracy for Adj Close without twitter sentiment analysis')\n",
        "plt.show()\n",
        "e=mean_squared_error(train_prediction_without_twitter, y_train_arima['Adj Close'])\n",
        "print(f'Training mean absolute error for Adj Close feature without twitter {e}')\n",
        "\n",
        "plt.figure(figsize=(15,6))\n",
        "sns.lineplot(x=y_train_arima['Adj Close'].index, y=y_train_arima['Adj Close'], label='Actual')\n",
        "sns.lineplot(x=y_train_arima['Adj Close'].index, y=train_prediction_twitter, label='Prediction')\n",
        "plt.title('Arima training Accuracy for Adj Close after adding twitter sentiment analysis')\n",
        "plt.show()\n",
        "e=mean_squared_error(train_prediction_twitter, y_train_arima['Adj Close'])\n",
        "print(f'Training mean absolute error for Adj Close feature with twitter {e}')\n"
      ],
      "metadata": {
        "id": "kwZcyVrf3Yhc"
      },
      "execution_count": null,
      "outputs": []
    },
    {
      "cell_type": "markdown",
      "source": [
        "/opt/conda/lib/python3.7/site-packages/statsmodels/tsa/base/tsa_model.py:843: ValueWarning: No supported index is available. Prediction results will be given with an integer index beginning at `start`.\n",
        "  data=self.data,\n",
        "/opt/conda/lib/python3.7/site-packages/statsmodels/tsa/base/tsa_model.py:843: ValueWarning: No supported index is available. Prediction results will be given with an integer index beginning at `start`.\n",
        "  data=self.data,\n",
        "\n",
        "Testing absolute mean square error for Adj Close feature without twitter sentiment analysis 1.0145387129955273e-20\n",
        "\n",
        "Testing absolute mean square error for Adj Close  feature with twitter sentiment analysis 1.0938434385844854e-20"
      ],
      "metadata": {
        "id": "p_akWaIkPwUJ"
      }
    },
    {
      "cell_type": "code",
      "source": [
        "test_prediction_twitter"
      ],
      "metadata": {
        "id": "CNs6qzUf330C"
      },
      "execution_count": null,
      "outputs": []
    },
    {
      "cell_type": "markdown",
      "source": [
        "array([518.909973, 521.869995, 543.710022, 546.880005, 553.330017,\n",
        "       553.409973, 547.580017, 550.119995, 558.919983, 566.179993,\n",
        "       569.190002, 582.070007, 588.549988, 590.530029, 606.710022,\n",
        "       606.049988, 597.539978, 598.719971, 589.289978, 577.76001 ,\n",
        "       582.869995, 586.5     , 589.349976, 575.429993, 573.140015,\n",
        "       590.650024, 593.26001 , 592.390015, 592.640015, 583.849976,\n",
        "       599.059998, 610.340027, 613.150024, 603.349976, 634.809998,\n",
        "       639.099976, 631.849976, 632.659973, 627.039978, 624.940002,\n",
        "       629.76001 , 633.799988, 628.289978, 637.969971, 639.      ,\n",
        "       625.140015, 653.159973, 664.780029, 671.659973, 668.52002 ,\n",
        "       662.919983, 674.049988, 690.309998, 681.169983, 677.719971,\n",
        "       688.289978, 668.400024, 645.719971, 651.450012, 655.98999 ,\n",
        "       646.909973, 657.580017, 682.609985, 679.330017, 687.400024,\n",
        "       691.690002, 682.02002 , 678.799988, 659.200012, 654.059998,\n",
        "       658.289978, 665.640015, 663.840027, 641.900024, 617.77002 ,\n",
        "       616.469971, 602.130005, 612.690002, 625.580017, 628.080017,\n",
        "       611.      , 611.659973, 604.559998, 597.98999 , 605.039978,\n",
        "       591.059998, 586.72998 , 593.73999 , 604.919983, 614.23999 ,\n",
        "       614.090027, 613.119995, 610.710022, 610.539978, 612.090027,\n",
        "       602.440002, 597.369995, 591.150024, 567.52002 , 553.289978,\n",
        "       541.059998, 539.849976, 540.840027, 537.219971, 519.200012,\n",
        "       525.690002, 510.799988, 515.859985, 508.25    , 397.5     ,\n",
        "       387.149994, 366.420013, 359.700012, 386.700012, 384.359985,\n",
        "       427.140015, 457.130005, 429.480011, 405.600006, 410.170013,\n",
        "       402.100006, 403.529999, 412.890015, 406.269989, 391.309998,\n",
        "       396.570007, 407.459991, 398.079987, 386.670013, 391.290009,\n",
        "       377.380005, 367.459991, 390.029999, 390.799988, 394.519989,\n",
        "       386.23999 , 380.029999, 368.070007, 361.730011, 350.26001 ,\n",
        "       341.76001 , 358.790009, 356.769989, 340.320007, 331.01001 ,\n",
        "       343.75    , 357.529999, 371.399994, 380.600006, 374.589996,\n",
        "       382.920013, 374.48999 , 375.709991, 373.850006, 378.51001 ,\n",
        "       391.820007, 381.470001, 374.589996, 373.470001, 391.5     ,\n",
        "       380.149994, 368.350006, 362.149994, 355.880005, 348.      ,\n",
        "       344.100006, 350.429993, 341.130005, 337.859985, 348.609985,\n",
        "       226.190002, 218.220001, 215.520004, 209.910004, 198.399994,\n",
        "       188.539993, 199.520004, 190.360001, 199.460007, 199.869995,\n",
        "       204.009995, 188.320007, 180.970001, 173.100006, 177.660004,\n",
        "       166.369995, 174.309998, 187.639999, 186.509995, 190.559998,\n",
        "       177.190002, 183.479996, 186.350006, 187.440002, 180.339996,\n",
        "       187.830002, 191.399994, 195.190002, 197.440002, 192.910004,\n",
        "       205.089996, 198.979996, 197.139999, 198.610001, 202.830002,\n",
        "       192.770004, 182.940002, 169.690002, 167.539993, 180.110001,\n",
        "       173.350006, 175.509995, 170.910004, 178.889999, 181.710007,\n",
        "       190.850006, 189.139999, 179.600006, 178.360001, 174.869995,\n",
        "       179.949997, 185.880005, 184.059998, 189.270004, 186.979996])"
      ],
      "metadata": {
        "id": "gIL8KeccPiZv"
      }
    },
    {
      "cell_type": "code",
      "source": [
        "#Libraries that will help us extract only business days in the US.\n",
        "#Otherwise our dates would be wrong when we look back (or forward).\n",
        "from pandas.tseries.holiday import USFederalHolidayCalendar\n",
        "from pandas.tseries.offsets import CustomBusinessDay\n",
        "\n",
        "us_bd = CustomBusinessDay(calendar=USFederalHolidayCalendar())\n",
        "#Remember that we can only predict one day in future as our model needs 5 variables\n",
        "#as inputs for prediction. We only have all 5 variables until the last day in our dataset.\n",
        "n_past_dates = 5\n",
        "n_days_for_prediction = 5 #let us predict past 15 days\n",
        "\n",
        "predict_period_dates = pd.date_range(list(df_for_training.index)[-n_past_dates], periods=n_days_for_prediction,\n",
        "                                     freq=us_bd).tolist()\n",
        "print(predict_period_dates)\n"
      ],
      "metadata": {
        "id": "ByQx0xDW4EYP"
      },
      "execution_count": null,
      "outputs": []
    },
    {
      "cell_type": "markdown",
      "source": [
        "[Timestamp('2022-07-01 00:00:00', freq='C'), Timestamp('2022-07-05 00:00:00', freq='C'), Timestamp('2022-07-06 00:00:00', freq='C'), Timestamp('2022-07-07 00:00:00', freq='C'), Timestamp('2022-07-08 00:00:00', freq='C')]"
      ],
      "metadata": {
        "id": "gxEBg42sPWKK"
      }
    },
    {
      "cell_type": "code",
      "source": [
        "features= ['Open','High', 'Low','Close','Volume','Adj Close','P_mean']\n",
        "df_for_training.iloc[-n_past:,:].to_numpy().reshape(1,n_past,len(features)).shape"
      ],
      "metadata": {
        "id": "gTkDj-Ix4NTV"
      },
      "execution_count": null,
      "outputs": []
    },
    {
      "cell_type": "markdown",
      "source": [
        "(1, 5, 7)"
      ],
      "metadata": {
        "id": "8l0afFyWPNWH"
      }
    },
    {
      "cell_type": "markdown",
      "source": [
        "**Make forcasting using LSTM¶**"
      ],
      "metadata": {
        "id": "Jaq5R0R54WB7"
      }
    },
    {
      "cell_type": "code",
      "source": [
        "x_forcast=df_for_training.iloc[-n_past-1:-1,:]\n",
        "x_forcast=scaler.transform(x_forcast).reshape(1,n_past,len(features))\n",
        "prediction = cnn_lstm_model_twitter.predict(x_forcast) #shape = (n, 1) where n is the n_days_for_prediction\n",
        "prediction=prediction.reshape(prediction.shape[0],prediction.shape[2])\n",
        "#Perform inverse transformation to rescale back to original range\n",
        "prediction=scaler_for_inference.inverse_transform(prediction)\n",
        "\n",
        "# Convert timestamp to date\n",
        "forecast_dates = []\n",
        "for time_i in predict_period_dates:\n",
        "    forecast_dates.append(time_i.date())\n",
        "\n",
        "print(f'Date = {forecast_dates[-2]}, Prediction open {prediction[0][0]}')\n",
        "print(f'Date = {forecast_dates[-2]}, Prediction Adjusted close {prediction[0][1]}')\n"
      ],
      "metadata": {
        "id": "HBOQKgOE4gHL"
      },
      "execution_count": null,
      "outputs": []
    },
    {
      "cell_type": "markdown",
      "source": [
        "Date = 2022-07-07, Prediction open 189.40206909179688\n",
        "Date = 2022-07-07, Prediction Adjusted close 190.136474609375\n",
        "Actual forcasting in 2022-07-07 are open 184.27 adjusted close 189.27"
      ],
      "metadata": {
        "id": "bVPsyVkI7E8i"
      }
    },
    {
      "cell_type": "markdown",
      "source": [
        "**Forcasting for upcoming data using Arima¶**\n"
      ],
      "metadata": {
        "id": "GNFrbGI34nFn"
      }
    },
    {
      "cell_type": "code",
      "source": [
        "x_forcast=X_arima[X_arima.index =='2022-07-07']\n",
        "x_forcast\n"
      ],
      "metadata": {
        "id": "-clh1twg4ywj"
      },
      "execution_count": null,
      "outputs": []
    },
    {
      "cell_type": "markdown",
      "source": [
        "High\tLow\tClose\tVolume\tP_mean\tAdj Close_feature\topen_feature_feature\n",
        "date\t\t\t\t\t\t\t\n",
        "2022-07-07\t190.210007\t183.5\t189.270004\t6334500.0\t-0.055427\t186.979996\t186.020004"
      ],
      "metadata": {
        "id": "3b8RuIsl67or"
      }
    },
    {
      "cell_type": "code",
      "source": [
        "x_forcast=X_arima[X_arima.index =='2022-07-07']\n",
        "open_prediction = arima_model_for_open_twitter.predict(n_periods=len(x_forcast), exogenous=x_forcast)\n",
        "adj_close_prediction = arima_model_for_Adj_Close_twitter.predict(n_periods=len(x_forcast),exogenous=x_forcast)#shape = (n, 1) where n is the n_days_for_prediction\n",
        "# open_prediction=float(open_prediction)\n",
        "# adj_close_prediction=float(adj_close_prediction)\n",
        "# Convert timestamp to date\n",
        "forecast_dates = []\n",
        "for time_i in predict_period_dates:\n",
        "    forecast_dates.append(time_i.date())\n",
        "\n",
        "print(f'Date = {forecast_dates[-2]}, Prediction open {open_prediction[0]}')\n",
        "print(f'Date = {forecast_dates[-2]}, Prediction Adjusted close {adj_close_prediction[0]}')"
      ],
      "metadata": {
        "id": "JV7sw6F65Qav"
      },
      "execution_count": null,
      "outputs": []
    },
    {
      "cell_type": "markdown",
      "source": [
        " Date = 2022-07-07, Prediction open 186.0200039996381\n",
        "Date = 2022-07-07, Prediction Adjusted close 186.97999600003504\n",
        "\n",
        "\n",
        "/opt/conda/lib/python3.7/site-packages/statsmodels/tsa/base/tsa_model.py:843: ValueWarning: No supported index is available. Prediction results will be given with an integer index beginning at `start`.\n",
        "  data=self.data,\n",
        "/opt/conda/lib/python3.7/site-packages/statsmodels/tsa/base/tsa_model.py:843: ValueWarning: No supported index is available. Prediction results will be given with an integer index beginning at `start`.\n",
        "  data=self.data,"
      ],
      "metadata": {
        "id": "KT2L2DTz6uwx"
      }
    }
  ]
}